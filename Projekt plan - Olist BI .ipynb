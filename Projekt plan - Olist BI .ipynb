{
 "cells": [
  {
   "cell_type": "markdown",
   "id": "17f8fed3",
   "metadata": {},
   "source": [
    "# Projekt plan - Olist BI \n",
    "by Alfred Stehli and Jule Twelkemeier"
   ]
  },
  {
   "cell_type": "markdown",
   "id": "8df2d550",
   "metadata": {},
   "source": [
    "### 1. Dataset : Olist Database\n",
    "Olist is the largest department store in the Brazilian marketplaces, it connects small business from all over Brazil to channels without the hassle and with a single contract. Those merchants are able to sell their products through the Olist Store and ship them directly to the customers using Olist logistic partners.\n"
   ]
  },
  {
   "cell_type": "markdown",
   "id": "fabe14da",
   "metadata": {},
   "source": [
    "## 2. Organistaion\n",
    "Trello: https://trello.com/b/zpmwtT4X/ironmidterm"
   ]
  },
  {
   "cell_type": "markdown",
   "id": "4ba72701",
   "metadata": {},
   "source": [
    "## 3. Projekt steps\n",
    "\n",
    "1. Visualization of the relationships of the olist tables in sql\n",
    "\n",
    "2. Data Cleaning per Table (SQL/ Pandas)\n",
    "\n",
    "3. Dashboards to be created\n",
    "\n",
    "    - High level dashboard for management \n",
    "    - Customer Analysis \n",
    "    - Sellers Analytics (incl. marketing funnel)\n",
    "    - Delivery Time and Orders Status\n",
    "    - Customer reviews\n",
    "\n",
    "\n",
    "4. Identifying of relevant business questions to be answered per dashboard \n",
    "\n",
    "\n",
    "5. Visualization in Tableau"
   ]
  },
  {
   "cell_type": "markdown",
   "id": "f2c6c003",
   "metadata": {},
   "source": [
    "## 4. Deliverables\n",
    "Presentation of dashboards that answer the business questions defined as relevant for OList"
   ]
  }
 ],
 "metadata": {
  "kernelspec": {
   "display_name": "Python 3",
   "language": "python",
   "name": "python3"
  },
  "language_info": {
   "codemirror_mode": {
    "name": "ipython",
    "version": 3
   },
   "file_extension": ".py",
   "mimetype": "text/x-python",
   "name": "python",
   "nbconvert_exporter": "python",
   "pygments_lexer": "ipython3",
   "version": "3.9.6"
  }
 },
 "nbformat": 4,
 "nbformat_minor": 5
}
