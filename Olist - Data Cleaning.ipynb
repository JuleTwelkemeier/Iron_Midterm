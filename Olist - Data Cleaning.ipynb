{
 "cells": [
  {
   "cell_type": "markdown",
   "id": "fa8deb88",
   "metadata": {},
   "source": [
    "### Import data after SQL-cleaning\n"
   ]
  },
  {
   "cell_type": "markdown",
   "id": "d0292c6b",
   "metadata": {},
   "source": []
  },
  {
   "cell_type": "markdown",
   "id": "9b6f44e8",
   "metadata": {},
   "source": [
    "----"
   ]
  },
  {
   "cell_type": "code",
   "execution_count": 1,
   "id": "565c123a",
   "metadata": {},
   "outputs": [],
   "source": [
    "import pandas as pd\n",
    "import getpass\n",
    "import sqlalchemy as sa\n",
    "\n",
    "\n"
   ]
  },
  {
   "cell_type": "markdown",
   "id": "cfe5ddff",
   "metadata": {},
   "source": [
    "# Importing SQL- cleaned data into pandas"
   ]
  },
  {
   "cell_type": "code",
   "execution_count": 10,
   "id": "37768515",
   "metadata": {},
   "outputs": [
    {
     "name": "stdout",
     "output_type": "stream",
     "text": [
      "Your password:········\n"
     ]
    }
   ],
   "source": [
    "\n",
    "driver = 'mysql+pymysql'\n",
    "user = 'root'\n",
    "password = getpass.getpass(prompt='Your password:'\"\")\n",
    "ip = '127.0.0.1'\n",
    "\n",
    "connection_string = f'{driver}://{user}:{password}@{ip}'\n",
    "    \n",
    "db_connection = sa.create_engine(connection_string)\n",
    "\n",
    "insp = sa.inspect(db_connection)\n",
    "db_list = insp.get_schema_names()\n"
   ]
  },
  {
   "cell_type": "markdown",
   "id": "6afc8342",
   "metadata": {},
   "source": [
    "## Check Olist tables concerning missing or misleading data"
   ]
  },
  {
   "cell_type": "code",
   "execution_count": 11,
   "id": "9e5d9cae",
   "metadata": {},
   "outputs": [
    {
     "data": {
      "text/plain": [
       "mql_id                             0\n",
       "seller_id                          0\n",
       "sdr_id                             0\n",
       "sr_id                              0\n",
       "won_date                           0\n",
       "business_segment                   1\n",
       "lead_type                          6\n",
       "lead_behaviour_profile           177\n",
       "has_company                      779\n",
       "has_gtin                         778\n",
       "average_stock                    776\n",
       "business_type                     10\n",
       "declared_product_catalog_size    773\n",
       "declared_monthly_revenue           0\n",
       "dtype: int64"
      ]
     },
     "execution_count": 11,
     "metadata": {},
     "output_type": "execute_result"
    }
   ],
   "source": [
    "query = \"SELECT * FROM olist.closed_deals\"\n",
    "closed_deals = pd.read_sql_query(query, db_connection)\n",
    "closed_deals.isnull().sum()\n",
    "\n",
    "\n",
    "##cleaning\n",
    "#delete (no value)\n",
    "    #sdr_id \n",
    "    #sr_id \n",
    "#delete (too many nulls)\n",
    "    #lead_behaviour_profile           \n",
    "    #has_company                      \n",
    "    #has_gtin                         \n",
    "    #average_stock\n",
    "    #declared_product_catalog_size \n",
    "\n",
    "##interesting\n",
    "# time to close deal\n",
    "# closed_deals per time (quarter/year)\n",
    "# percentage buisness_segment and business_type"
   ]
  },
  {
   "cell_type": "code",
   "execution_count": 13,
   "id": "2437ff1e",
   "metadata": {},
   "outputs": [
    {
     "data": {
      "text/plain": [
       "mql_id                 0\n",
       "first_contact_date     0\n",
       "landing_page_id        0\n",
       "origin                60\n",
       "dtype: int64"
      ]
     },
     "execution_count": 13,
     "metadata": {},
     "output_type": "execute_result"
    }
   ],
   "source": [
    "query = \"SELECT * FROM olist.marketing_qualified_leads\"\n",
    "marketing_qualified_leads = pd.read_sql_query(query, db_connection)\n",
    "marketing_qualified_leads.isnull().sum()\n",
    "\n",
    "##cleaning\n",
    "# null cells into \"unknown\"\n",
    "\n",
    "## interesting (related to closed_deals)\n",
    "# top 10 landing_page\n",
    "# origin (also by time to close)"
   ]
  },
  {
   "cell_type": "code",
   "execution_count": 22,
   "id": "4fb86f4e",
   "metadata": {},
   "outputs": [
    {
     "data": {
      "text/plain": [
       "seller_id                 0\n",
       "seller_zip_code_prefix    0\n",
       "seller_city               0\n",
       "seller_state              0\n",
       "dtype: int64"
      ]
     },
     "execution_count": 22,
     "metadata": {},
     "output_type": "execute_result"
    }
   ],
   "source": [
    "query = \"SELECT * FROM olist.`sellers`\"\n",
    "sellers = pd.read_sql_query(query, db_connection)\n",
    "sellers.isnull().sum()\n",
    "\n",
    "##cleaning\n",
    "#seller_city one has a number = rio de janeiro\n",
    "#seller state = full name\n",
    "\n",
    "## interesting\n",
    "#seller city\n",
    "#seller state "
   ]
  },
  {
   "cell_type": "code",
   "execution_count": 15,
   "id": "ae24a8b7",
   "metadata": {},
   "outputs": [
    {
     "data": {
      "text/plain": [
       "order_id               0\n",
       "order_item_id          0\n",
       "product_id             0\n",
       "seller_id              0\n",
       "shipping_limit_date    0\n",
       "price                  0\n",
       "freight_value          0\n",
       "dtype: int64"
      ]
     },
     "execution_count": 15,
     "metadata": {},
     "output_type": "execute_result"
    }
   ],
   "source": [
    "query = \"SELECT * FROM olist.order_items\"\n",
    "order_items = pd.read_sql_query(query, db_connection)\n",
    "order_items.isnull().sum()\n",
    "\n",
    "## findings\n",
    "# freight_value & price & final_price are the prices for the customer (and is the same as in other tables)\n",
    "# order_item_id has  21 uniques -->  shows how many items are included in one order shipped out to the customer\n",
    "# shipping_limit_date = latest time when the seller has to give the product to the carrier for delivery\n",
    "\n",
    "##interesting\n",
    "#which seller violate the shipping_limit_date (shipping_date_limit<order_delivered_carrier_date)"
   ]
  },
  {
   "cell_type": "code",
   "execution_count": 18,
   "id": "59cfe10c",
   "metadata": {},
   "outputs": [
    {
     "data": {
      "text/plain": [
       "order_id                            0\n",
       "customer_id                         0\n",
       "order_status                        0\n",
       "order_purchase_timestamp            0\n",
       "order_approved_at                 160\n",
       "order_delivered_carrier_date     1783\n",
       "order_delivered_customer_date    2965\n",
       "order_estimated_delivery_date       0\n",
       "dtype: int64"
      ]
     },
     "execution_count": 18,
     "metadata": {},
     "output_type": "execute_result"
    }
   ],
   "source": [
    "query = \"SELECT * FROM olist.orders\"\n",
    "orders = pd.read_sql_query(query, db_connection)\n",
    "orders.isnull().sum()\n",
    "\n",
    "##cleaning\n",
    "#bucketing \"processing & approved, invoiced\"  as these orders have not been processed correctly: new name \"unprocessed\"; rename \"shipped\" \"lost_during_delivery\"\n",
    "\n",
    "##interesting\n",
    "# percentage order status \n",
    "# actual vs esimated delivery date (only orders who have a order_delivered_customer_date)"
   ]
  },
  {
   "cell_type": "code",
   "execution_count": 16,
   "id": "d99f0ecb",
   "metadata": {},
   "outputs": [
    {
     "data": {
      "text/plain": [
       "order_id                0\n",
       "payment_sequential      0\n",
       "payment_type            0\n",
       "payment_installments    0\n",
       "payment_value           0\n",
       "dtype: int64"
      ]
     },
     "execution_count": 16,
     "metadata": {},
     "output_type": "execute_result"
    }
   ],
   "source": [
    "query = \"SELECT * FROM olist.order_payments\"\n",
    "order_payments = pd.read_sql_query(query, db_connection)\n",
    "order_payments.isnull().sum()\n",
    "\n",
    "## cleanining\n",
    "#payment_type = delete rows where type = 'not_defined' \n",
    "#payment_sequential = no clear added value\n",
    "\n",
    "## Interesting\n",
    "#percentage of payment_type per month /year (reference order_delivered_customer_date)\n",
    "#payment_installments: average payment_installments, zip_code analysis, category analysis"
   ]
  },
  {
   "cell_type": "code",
   "execution_count": 7,
   "id": "c421be3f",
   "metadata": {},
   "outputs": [
    {
     "data": {
      "text/plain": [
       "customer_id                 0\n",
       "customer_unique_id          0\n",
       "customer_zip_code_prefix    0\n",
       "customer_city               0\n",
       "customer_state              0\n",
       "dtype: int64"
      ]
     },
     "execution_count": 7,
     "metadata": {},
     "output_type": "execute_result"
    }
   ],
   "source": [
    "query = \"SELECT * FROM olist.customers\"\n",
    "customers = pd.read_sql_query(query, db_connection)\n",
    "customers.isnull().sum()\n",
    "\n",
    "##cleaning\n",
    "#customer state = full name\n",
    "\n",
    "## interesting\n",
    "#customer city\n",
    "#customer state "
   ]
  },
  {
   "cell_type": "code",
   "execution_count": 14,
   "id": "4b42364f",
   "metadata": {},
   "outputs": [
    {
     "data": {
      "text/plain": [
       "order_id         0\n",
       "customer_city    0\n",
       "customer_id      0\n",
       "order_status     0\n",
       "order_item_id    0\n",
       "price            0\n",
       "freight_value    0\n",
       "final_price      0\n",
       "dtype: int64"
      ]
     },
     "execution_count": 14,
     "metadata": {},
     "output_type": "execute_result"
    }
   ],
   "source": [
    "query = \"SELECT * FROM olist.`order_customer_items_paid`\"\n",
    "order_customer_items_paid = pd.read_sql_query(query, db_connection)\n",
    "order_customer_items_paid.isnull().sum()\n",
    "\n",
    "##\n",
    "#how many delivered orders haven't been paid yet (compare with order_ids in orders where status is 'delivered'):\n",
    " ''' Just one:\n",
    " SELECT *\n",
    "from orders\n",
    "Left join `order_customer_items_paid`\n",
    "using (order_id)\n",
    "where order_customer_items_paid.order_id is null and orders.order_status in ('shipped', 'delivered')\n",
    "\n",
    "Output (order_id:) a68ce1686d536ca72bd2dadc4b8671e5\n",
    "\n",
    "this order has a review , Übersetzung: \"DIE LIEFERUNG SIND 38 TAGE ES SIND BEREITS MEHR ALS 60 TAGE UND ICH HABE DAS PRODUKT NICHT ERHALTEN\" '''\n",
    "\n",
    "##Interesting\n",
    "#show percentage odrder_status (if order_status = \"shipping\" / \"lost_during_delivery\" --> order paid but not received)"
   ]
  },
  {
   "cell_type": "code",
   "execution_count": 17,
   "id": "b37fc6af",
   "metadata": {},
   "outputs": [
    {
     "data": {
      "text/plain": [
       "review_id                      0\n",
       "order_id                       0\n",
       "review_score                   0\n",
       "review_comment_title       88285\n",
       "review_comment_message     58245\n",
       "review_creation_date           0\n",
       "review_answer_timestamp        0\n",
       "dtype: int64"
      ]
     },
     "execution_count": 17,
     "metadata": {},
     "output_type": "execute_result"
    }
   ],
   "source": [
    "query = \"SELECT * FROM olist.order_reviews\"\n",
    "order_reviews = pd.read_sql_query(query, db_connection)\n",
    "order_reviews.isnull().sum()\n",
    "\n",
    "## interesting\n",
    "# review_score\n",
    "# top 10 seller score / low 10 seller score compare to their revenue per month/year \n",
    "# review answer velocity over time(month/year) (calculated review_answer_timestamp-review_creation_date)\n",
    "# from which region come the most reviews / also by good and bad score"
   ]
  },
  {
   "cell_type": "code",
   "execution_count": 19,
   "id": "256c7076",
   "metadata": {},
   "outputs": [
    {
     "data": {
      "text/plain": [
       "order_id                 0\n",
       "order_item_id            0\n",
       "order_status             0\n",
       "Year                     0\n",
       "product_id               0\n",
       "product_category_name    0\n",
       "category                 0\n",
       "total_price              0\n",
       "dtype: int64"
      ]
     },
     "execution_count": 19,
     "metadata": {},
     "output_type": "execute_result"
    }
   ],
   "source": [
    "query = \"SELECT * FROM olist.`order_status_year_price`\"\n",
    "order_status_year_price = pd.read_sql_query(query, db_connection)\n",
    "order_status_year_price.isnull().sum()\n",
    "##findings\n",
    "#only delivered \n",
    "\n",
    "##interesting\n",
    "#to calculate revenue (compare it with order_customer_items_paid)"
   ]
  },
  {
   "cell_type": "code",
   "execution_count": 21,
   "id": "0a0fcc10",
   "metadata": {},
   "outputs": [
    {
     "data": {
      "text/plain": [
       "product_id                      0\n",
       "product_category_name         610\n",
       "product_name_length           610\n",
       "product_description_length    610\n",
       "product_photos_qty            610\n",
       "product_weight_g                6\n",
       "product_length_cm               2\n",
       "product_height_cm               2\n",
       "product_width_cm                2\n",
       "dtype: int64"
      ]
     },
     "execution_count": 21,
     "metadata": {},
     "output_type": "execute_result"
    }
   ],
   "source": [
    "query = \"SELECT * FROM olist.`products`\"\n",
    "products = pd.read_sql_query(query, db_connection)\n",
    "products.isnull().sum()\n",
    "\n",
    "##cleaning\n",
    "#change product_catgeory_name to english \n",
    "\n",
    "##interesting\n",
    "# which seller haven't provided all of the necessary information "
   ]
  },
  {
   "cell_type": "code",
   "execution_count": 20,
   "id": "e2bc5d26",
   "metadata": {},
   "outputs": [
    {
     "data": {
      "text/plain": [
       "product_category_name            0\n",
       "product_category_name_english    0\n",
       "dtype: int64"
      ]
     },
     "execution_count": 20,
     "metadata": {},
     "output_type": "execute_result"
    }
   ],
   "source": [
    "query = \"SELECT * FROM olist.`product_category_name_translation`\"\n",
    "product_category_name_translation = pd.read_sql_query(query, db_connection)\n",
    "product_category_name_translation.isnull().sum()\n"
   ]
  },
  {
   "cell_type": "code",
   "execution_count": null,
   "id": "07b2aa4a",
   "metadata": {},
   "outputs": [],
   "source": []
  },
  {
   "cell_type": "code",
   "execution_count": 12,
   "id": "048d94b8",
   "metadata": {},
   "outputs": [
    {
     "data": {
      "text/plain": [
       "geolocation_zip_code_prefix    0\n",
       "geolocation_lat                0\n",
       "geolocation_lng                0\n",
       "geolocation_city               0\n",
       "geolocation_state              0\n",
       "dtype: int64"
      ]
     },
     "execution_count": 12,
     "metadata": {},
     "output_type": "execute_result"
    }
   ],
   "source": [
    "query = \"SELECT * FROM olist.geolocation\"\n",
    "geolocation = pd.read_sql_query(query, db_connection)\n",
    "geolocation.isnull().sum()\n",
    "\n",
    "# we don't need this table as we are using tableau and it can create lattitude itself with the city information"
   ]
  }
 ],
 "metadata": {
  "kernelspec": {
   "display_name": "Python 3",
   "language": "python",
   "name": "python3"
  },
  "language_info": {
   "codemirror_mode": {
    "name": "ipython",
    "version": 3
   },
   "file_extension": ".py",
   "mimetype": "text/x-python",
   "name": "python",
   "nbconvert_exporter": "python",
   "pygments_lexer": "ipython3",
   "version": "3.9.6"
  }
 },
 "nbformat": 4,
 "nbformat_minor": 5
}
